{
 "cells": [
  {
   "cell_type": "code",
   "execution_count": 1,
   "id": "681ad93c-c9d6-48c0-a3b6-a273661d59f3",
   "metadata": {},
   "outputs": [
    {
     "data": {
      "text/plain": [
       "'\\n¿Qué es el lenguaje de programación Python?\\nPython es un lenguaje de programación interpretado de propósito general y alto nivel .\\n\\n1) Alto nivel\\nPython es un lenguaje de programación de alto nivel que facilita el aprendizaje. Python no requiere que comprenda los detalles de la computadora para desarrollar programas de manera eficiente.\\n\\n2) de propósito general\\nPython es un lenguaje de propósito general. Significa que puede usar Python en varios dominios, incluidos:\\n\\naplicaciones web\\nGrandes aplicaciones de datos\\nPruebas\\nAutomatización\\nCiencia de datos, aprendizaje automático e IA\\nsoftware de escritorio\\nAplicaciones móviles\\nEl lenguaje objetivo como SQL que se puede usar para consultar datos de bases de datos relacionales.\\n\\n3) Interpretado\\nPython es un lenguaje interpretado. Para desarrollar un programa de Python, escribe el código de Python en un archivo llamado código fuente.\\n\\nPara ejecutar el código fuente, debe convertirlo al lenguaje de máquina que la computadora pueda entender. Y el intérprete de Python convierte el código fuente, línea por línea, una vez a la vez, en código de máquina cuando se ejecuta el programa de Python.\\n\\nLos lenguajes compilados como Java y C# usan un compilador que compila todo el código fuente antes de que se ejecute el programa.\\n\\n¿Por qué Python?\\nPython aumenta su productividad. Python le permite resolver problemas complejos en menos tiempo y menos líneas de código. Es rápido hacer un prototipo en Python.\\n\\nPython se convierte en una solución en muchas áreas de todas las industrias, desde aplicaciones web hasta ciencia de datos y aprendizaje automático.\\n\\nPython es bastante fácil de aprender en comparación con otros lenguajes de programación. La sintaxis de Python es clara y hermosa.\\n\\nPython tiene un gran ecosistema que incluye muchas bibliotecas y marcos.\\n\\nPython es multiplataforma. Los programas Python pueden ejecutarse en Windows, Linux y macOS.\\n\\nPython tiene una gran comunidad. Siempre que te quedes atascado, puedes obtener ayuda de una comunidad activa.\\n\\nLos desarrolladores de Python tienen una gran demanda.\\n'"
      ]
     },
     "execution_count": 1,
     "metadata": {},
     "output_type": "execute_result"
    }
   ],
   "source": [
    "\"\"\"\n",
    "¿Qué es el lenguaje de programación Python?\n",
    "Python es un lenguaje de programación interpretado de propósito general y alto nivel .\n",
    "\n",
    "1) Alto nivel\n",
    "Python es un lenguaje de programación de alto nivel que facilita el aprendizaje. Python no requiere que comprenda los detalles de la computadora para desarrollar programas de manera eficiente.\n",
    "\n",
    "2) de propósito general\n",
    "Python es un lenguaje de propósito general. Significa que puede usar Python en varios dominios, incluidos:\n",
    "\n",
    "aplicaciones web\n",
    "Grandes aplicaciones de datos\n",
    "Pruebas\n",
    "Automatización\n",
    "Ciencia de datos, aprendizaje automático e IA\n",
    "software de escritorio\n",
    "Aplicaciones móviles\n",
    "El lenguaje objetivo como SQL que se puede usar para consultar datos de bases de datos relacionales.\n",
    "\n",
    "3) Interpretado\n",
    "Python es un lenguaje interpretado. Para desarrollar un programa de Python, escribe el código de Python en un archivo llamado código fuente.\n",
    "\n",
    "Para ejecutar el código fuente, debe convertirlo al lenguaje de máquina que la computadora pueda entender. Y el intérprete de Python convierte el código fuente, línea por línea, una vez a la vez, en código de máquina cuando se ejecuta el programa de Python.\n",
    "\n",
    "Los lenguajes compilados como Java y C# usan un compilador que compila todo el código fuente antes de que se ejecute el programa.\n",
    "\n",
    "¿Por qué Python?\n",
    "Python aumenta su productividad. Python le permite resolver problemas complejos en menos tiempo y menos líneas de código. Es rápido hacer un prototipo en Python.\n",
    "\n",
    "Python se convierte en una solución en muchas áreas de todas las industrias, desde aplicaciones web hasta ciencia de datos y aprendizaje automático.\n",
    "\n",
    "Python es bastante fácil de aprender en comparación con otros lenguajes de programación. La sintaxis de Python es clara y hermosa.\n",
    "\n",
    "Python tiene un gran ecosistema que incluye muchas bibliotecas y marcos.\n",
    "\n",
    "Python es multiplataforma. Los programas Python pueden ejecutarse en Windows, Linux y macOS.\n",
    "\n",
    "Python tiene una gran comunidad. Siempre que te quedes atascado, puedes obtener ayuda de una comunidad activa.\n",
    "\n",
    "Los desarrolladores de Python tienen una gran demanda.\n",
    "\"\"\""
   ]
  },
  {
   "cell_type": "code",
   "execution_count": null,
   "id": "6d5b3770-c9dc-4694-972e-b8ccd373e446",
   "metadata": {},
   "outputs": [],
   "source": []
  }
 ],
 "metadata": {
  "kernelspec": {
   "display_name": "Python 3 (ipykernel)",
   "language": "python",
   "name": "python3"
  },
  "language_info": {
   "codemirror_mode": {
    "name": "ipython",
    "version": 3
   },
   "file_extension": ".py",
   "mimetype": "text/x-python",
   "name": "python",
   "nbconvert_exporter": "python",
   "pygments_lexer": "ipython3",
   "version": "3.10.2"
  }
 },
 "nbformat": 4,
 "nbformat_minor": 5
}
